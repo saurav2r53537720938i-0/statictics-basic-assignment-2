{
 "cells": [
  {
   "cell_type": "markdown",
   "id": "d71cf15c-99af-4c46-aa0e-7699a029447d",
   "metadata": {},
   "source": [
    "Three measure central tendancy are:\n",
    "1. Mean\n",
    "2. Median\n",
    "3. Mode"
   ]
  },
  {
   "cell_type": "markdown",
   "id": "856e3695-a778-41a0-8bae-a40ab71dfdb3",
   "metadata": {},
   "source": [
    "The main diffrence between mean,median and mode are:"
   ]
  },
  {
   "cell_type": "markdown",
   "id": "55f4b710-415e-4875-8492-77f6f2739434",
   "metadata": {},
   "source": [
    "1. Mean: this is the average of all the value in the dataset.to calculate the mean,you add up all the values and divide by the number of values .\n",
    "2. Median: this is the middle value in a dataset when it's ordered from least to greatest.if there an even number of values,the median is the average of the two middle values\n",
    "3. Mode: this is the value that appears most frequently in the dataset.A dataset can have one mode,two modes,or more."
   ]
  },
  {
   "cell_type": "markdown",
   "id": "3a367f59-07cb-4cd9-a306-6214bd0081dc",
   "metadata": {},
   "source": [
    "given height data: 178,177,176,177,178.2,178,175,179,180,175,178.9,176.2,177,177.5"
   ]
  },
  {
   "cell_type": "markdown",
   "id": "62732405-f9f6-4512-ad21-d0f704497c6a",
   "metadata": {},
   "source": [
    "1. Mean:177.39375\n",
    "2. Median:177\n",
    "3. Mode:178"
   ]
  },
  {
   "cell_type": "markdown",
   "id": "82f00d35-f20d-41a8-8f2d-db842da43768",
   "metadata": {},
   "source": [
    "to find standard devaition for the given data:\n",
    "1. Calculate the mean(average) of the data\n",
    "2. Find the diffrence between each data point and the mean\n",
    "3. square each of these diffrence\n",
    "4. Find the mean of these sqared \n",
    "5. Take the square root of the varaiance to get the standard devaition"
   ]
  },
  {
   "cell_type": "markdown",
   "id": "475c106d-7c28-4f24-94df-9c3c33baabd4",
   "metadata": {},
   "source": [
    "Measure of dispersion of dispersion such as range,varaince,and standard devaition used to describe the spread"
   ]
  },
  {
   "cell_type": "markdown",
   "id": "34583b0f-f542-4ec4-80d0-9fb9ac0bcc88",
   "metadata": {},
   "source": [
    "1. Range:the range is the simplest measure of dipersion and reprsent the diffrence between the higtest and lowest value in a dataset"
   ]
  },
  {
   "cell_type": "markdown",
   "id": "a19ad7a4-e36d-4b88-9121-d19c209cbd59",
   "metadata": {},
   "source": [
    "Variance: Variance measures the average squared devation of each data point from the mean .it provide a more comprehensive understanding of the data spread compared to the range."
   ]
  },
  {
   "cell_type": "markdown",
   "id": "60a7a5c1-3bc0-4a70-a830-925078234f0f",
   "metadata": {},
   "source": [
    "3. Standard devation: Standard devaition is the square root of the variance and provides a measure of how much the data deviates data"
   ]
  },
  {
   "cell_type": "markdown",
   "id": "272e6040-441e-44a1-adea-b1812caad8f8",
   "metadata": {},
   "source": [
    "A venn diagram is a grapical represention used to visually illustrate the realtionship between diffrent sets of data .it consist of oveerlapping circles or other shapes represintiing a set or categoryy .The overlapping circles\n",
    "for example set a "
   ]
  },
  {
   "cell_type": "markdown",
   "id": "70616d40-882e-42cd-9a8b-293c5662b00e",
   "metadata": {},
   "source": [
    "Skewness in data refers to the asymmetry in the distribution of value.it indicates whether the data is concentrated \n",
    "more on one side of the mean than the other .A postively skewed distribution has a tail on the right side meaning it has more extreme value on the right side of the mean."
   ]
  },
  {
   "cell_type": "markdown",
   "id": "47350270-e7e6-4af4-86c0-1c852999ae9c",
   "metadata": {},
   "source": [
    "If a data is skewed the median will typicallyy be less than the mean this is because in a right -skewed distribution the tail of the distribution is on the right side meaning there are more extreme values pulling the mean towards the higher end of the scale however the median is less affected by extreme"
   ]
  }
 ],
 "metadata": {
  "kernelspec": {
   "display_name": "Python 3 (ipykernel)",
   "language": "python",
   "name": "python3"
  },
  "language_info": {
   "codemirror_mode": {
    "name": "ipython",
    "version": 3
   },
   "file_extension": ".py",
   "mimetype": "text/x-python",
   "name": "python",
   "nbconvert_exporter": "python",
   "pygments_lexer": "ipython3",
   "version": "3.10.8"
  }
 },
 "nbformat": 4,
 "nbformat_minor": 5
}
